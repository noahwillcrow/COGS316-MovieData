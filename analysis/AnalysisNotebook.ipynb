{
 "cells": [
  {
   "cell_type": "code",
   "execution_count": 1,
   "metadata": {},
   "outputs": [],
   "source": [
    "import matplotlib.pyplot as plt\n",
    "import numpy as np\n",
    "import pandas as pd"
   ]
  },
  {
   "cell_type": "code",
   "execution_count": 2,
   "metadata": {},
   "outputs": [],
   "source": [
    "import warnings\n",
    "warnings.filterwarnings('error')"
   ]
  },
  {
   "cell_type": "code",
   "execution_count": 3,
   "metadata": {},
   "outputs": [],
   "source": [
    "_NAME = \"Name\"\n",
    "_SOURCE_TYPE = \"Source type\"\n",
    "_GENRE = \"Genre\"\n",
    "_PROD_METHOD = \"Production method\"\n",
    "_IS_FRANCHISE = \"Is part of a franchise?\"\n",
    "_PROD_BUDGET = \"Production budget (in USD)\"\n",
    "_MONTH = \"Month\"\n",
    "_YEAR = \"Year\"\n",
    "_REL_DAY_REVENUE = \"Release day revenue\"\n",
    "_REL_DAY_NUM_THEATERS = \"Number of theaters on release day\"\n",
    "_REL_DAY_REVENUE_RATIO = \"Release day revenue / production budget\"\n",
    "_TOMATOMETER = \"Tomatometer\"\n",
    "_ROT_TOM_AUDIENCE = \"Rotten Tomatoes Audience\"\n",
    "_METACRITIC = \"Metacritic\"\n",
    "_MONTHS_LIST = [\"Jan\", \"Feb\", \"Mar\", \"Apr\", \"May\", \"Jun\", \"Jul\", \"Aug\", \"Sep\", \"Oct\", \"Nov\", \"Dec\"]"
   ]
  },
  {
   "cell_type": "code",
   "execution_count": 4,
   "metadata": {},
   "outputs": [],
   "source": [
    "data = pd.read_csv(\"../full_movie_list_2.csv\")"
   ]
  },
  {
   "cell_type": "code",
   "execution_count": 5,
   "metadata": {},
   "outputs": [
    {
     "data": {
      "text/plain": [
       "3765"
      ]
     },
     "execution_count": 5,
     "metadata": {},
     "output_type": "execute_result"
    }
   ],
   "source": [
    "data = data[data[_YEAR] >= 2000]\n",
    "len(data)"
   ]
  },
  {
   "cell_type": "code",
   "execution_count": 6,
   "metadata": {},
   "outputs": [
    {
     "data": {
      "text/html": [
       "<div>\n",
       "<style scoped>\n",
       "    .dataframe tbody tr th:only-of-type {\n",
       "        vertical-align: middle;\n",
       "    }\n",
       "\n",
       "    .dataframe tbody tr th {\n",
       "        vertical-align: top;\n",
       "    }\n",
       "\n",
       "    .dataframe thead th {\n",
       "        text-align: right;\n",
       "    }\n",
       "</style>\n",
       "<table border=\"1\" class=\"dataframe\">\n",
       "  <thead>\n",
       "    <tr style=\"text-align: right;\">\n",
       "      <th></th>\n",
       "      <th>Name</th>\n",
       "      <th>Source type</th>\n",
       "      <th>Genre</th>\n",
       "      <th>Production method</th>\n",
       "      <th>Is part of a franchise?</th>\n",
       "      <th>Production budget (in USD)</th>\n",
       "      <th>Month</th>\n",
       "      <th>Year</th>\n",
       "      <th>Release day revenue</th>\n",
       "      <th>Number of theaters on release day</th>\n",
       "      <th>Tomatometer</th>\n",
       "      <th>Metacritic</th>\n",
       "      <th>Release day revenue / production budget</th>\n",
       "      <th>Rotten Tomatoes Audience</th>\n",
       "    </tr>\n",
       "  </thead>\n",
       "  <tbody>\n",
       "    <tr>\n",
       "      <th>0</th>\n",
       "      <td>Avatar</td>\n",
       "      <td>Original Screenplay</td>\n",
       "      <td>Action</td>\n",
       "      <td>Animation/Live Action</td>\n",
       "      <td>True</td>\n",
       "      <td>425000000</td>\n",
       "      <td>12</td>\n",
       "      <td>2009</td>\n",
       "      <td>26752099</td>\n",
       "      <td>3452</td>\n",
       "      <td>0.82</td>\n",
       "      <td>0.83</td>\n",
       "      <td>0.062946</td>\n",
       "      <td>0.82</td>\n",
       "    </tr>\n",
       "    <tr>\n",
       "      <th>1</th>\n",
       "      <td>Pirates of the Caribbean: On Stranger Tides</td>\n",
       "      <td>Based on Theme Park Ride</td>\n",
       "      <td>Adventure</td>\n",
       "      <td>Live Action</td>\n",
       "      <td>True</td>\n",
       "      <td>410600000</td>\n",
       "      <td>5</td>\n",
       "      <td>2011</td>\n",
       "      <td>34860549</td>\n",
       "      <td>4155</td>\n",
       "      <td>0.33</td>\n",
       "      <td>0.45</td>\n",
       "      <td>0.084901</td>\n",
       "      <td>0.54</td>\n",
       "    </tr>\n",
       "    <tr>\n",
       "      <th>2</th>\n",
       "      <td>Avengers: Age of Ultron</td>\n",
       "      <td>Based on Comic/Graphic Novel</td>\n",
       "      <td>Action</td>\n",
       "      <td>Animation/Live Action</td>\n",
       "      <td>True</td>\n",
       "      <td>330600000</td>\n",
       "      <td>5</td>\n",
       "      <td>2015</td>\n",
       "      <td>84424532</td>\n",
       "      <td>4276</td>\n",
       "      <td>0.75</td>\n",
       "      <td>0.66</td>\n",
       "      <td>0.255368</td>\n",
       "      <td>0.83</td>\n",
       "    </tr>\n",
       "    <tr>\n",
       "      <th>3</th>\n",
       "      <td>Star Wars Ep. VIII: The Last Jedi</td>\n",
       "      <td>Original Screenplay</td>\n",
       "      <td>Adventure</td>\n",
       "      <td>Live Action</td>\n",
       "      <td>True</td>\n",
       "      <td>317000000</td>\n",
       "      <td>12</td>\n",
       "      <td>2017</td>\n",
       "      <td>104684491</td>\n",
       "      <td>4232</td>\n",
       "      <td>-1.00</td>\n",
       "      <td>-1.00</td>\n",
       "      <td>0.330235</td>\n",
       "      <td>-1.00</td>\n",
       "    </tr>\n",
       "    <tr>\n",
       "      <th>4</th>\n",
       "      <td>Star Wars Ep. VII: The Force Awakens</td>\n",
       "      <td>Original Screenplay</td>\n",
       "      <td>Adventure</td>\n",
       "      <td>Animation/Live Action</td>\n",
       "      <td>True</td>\n",
       "      <td>306000000</td>\n",
       "      <td>12</td>\n",
       "      <td>2015</td>\n",
       "      <td>119119282</td>\n",
       "      <td>4134</td>\n",
       "      <td>-1.00</td>\n",
       "      <td>-1.00</td>\n",
       "      <td>0.389279</td>\n",
       "      <td>-1.00</td>\n",
       "    </tr>\n",
       "  </tbody>\n",
       "</table>\n",
       "</div>"
      ],
      "text/plain": [
       "                                          Name                   Source type  \\\n",
       "0                                       Avatar           Original Screenplay   \n",
       "1  Pirates of the Caribbean: On Stranger Tides      Based on Theme Park Ride   \n",
       "2                      Avengers: Age of Ultron  Based on Comic/Graphic Novel   \n",
       "3            Star Wars Ep. VIII: The Last Jedi           Original Screenplay   \n",
       "4         Star Wars Ep. VII: The Force Awakens           Original Screenplay   \n",
       "\n",
       "       Genre      Production method  Is part of a franchise?  \\\n",
       "0     Action  Animation/Live Action                     True   \n",
       "1  Adventure            Live Action                     True   \n",
       "2     Action  Animation/Live Action                     True   \n",
       "3  Adventure            Live Action                     True   \n",
       "4  Adventure  Animation/Live Action                     True   \n",
       "\n",
       "   Production budget (in USD)  Month  Year  Release day revenue  \\\n",
       "0                   425000000     12  2009             26752099   \n",
       "1                   410600000      5  2011             34860549   \n",
       "2                   330600000      5  2015             84424532   \n",
       "3                   317000000     12  2017            104684491   \n",
       "4                   306000000     12  2015            119119282   \n",
       "\n",
       "   Number of theaters on release day  Tomatometer  Metacritic  \\\n",
       "0                               3452         0.82        0.83   \n",
       "1                               4155         0.33        0.45   \n",
       "2                               4276         0.75        0.66   \n",
       "3                               4232        -1.00       -1.00   \n",
       "4                               4134        -1.00       -1.00   \n",
       "\n",
       "   Release day revenue / production budget  Rotten Tomatoes Audience  \n",
       "0                                 0.062946                      0.82  \n",
       "1                                 0.084901                      0.54  \n",
       "2                                 0.255368                      0.83  \n",
       "3                                 0.330235                     -1.00  \n",
       "4                                 0.389279                     -1.00  "
      ]
     },
     "execution_count": 6,
     "metadata": {},
     "output_type": "execute_result"
    }
   ],
   "source": [
    "data.head()"
   ]
  },
  {
   "cell_type": "code",
   "execution_count": 7,
   "metadata": {},
   "outputs": [
    {
     "data": {
      "text/plain": [
       "2553"
      ]
     },
     "execution_count": 7,
     "metadata": {},
     "output_type": "execute_result"
    }
   ],
   "source": [
    "tomatometerData = data[data[_TOMATOMETER] > -1]\n",
    "len(tomatometerData)"
   ]
  },
  {
   "cell_type": "code",
   "execution_count": 8,
   "metadata": {},
   "outputs": [
    {
     "data": {
      "text/plain": [
       "3322"
      ]
     },
     "execution_count": 8,
     "metadata": {},
     "output_type": "execute_result"
    }
   ],
   "source": [
    "metacriticData = data[data[_METACRITIC] > -1]\n",
    "len(metacriticData)"
   ]
  },
  {
   "cell_type": "code",
   "execution_count": 9,
   "metadata": {},
   "outputs": [
    {
     "data": {
      "text/plain": [
       "-0.015790446372123988"
      ]
     },
     "execution_count": 9,
     "metadata": {},
     "output_type": "execute_result"
    }
   ],
   "source": [
    "tomatometerData[_TOMATOMETER].corr(tomatometerData[_REL_DAY_REVENUE] / tomatometerData[_PROD_BUDGET])"
   ]
  },
  {
   "cell_type": "code",
   "execution_count": 10,
   "metadata": {},
   "outputs": [
    {
     "data": {
      "text/plain": [
       "-0.032214923610817285"
      ]
     },
     "execution_count": 10,
     "metadata": {},
     "output_type": "execute_result"
    }
   ],
   "source": [
    "metacriticData[_METACRITIC].corr(metacriticData[_REL_DAY_REVENUE] / metacriticData[_PROD_BUDGET])"
   ]
  },
  {
   "cell_type": "code",
   "execution_count": 11,
   "metadata": {},
   "outputs": [
    {
     "data": {
      "text/plain": [
       "0.0013329299044958745"
      ]
     },
     "execution_count": 11,
     "metadata": {},
     "output_type": "execute_result"
    }
   ],
   "source": [
    "nonFranchiseTomData = tomatometerData[tomatometerData[_IS_FRANCHISE] == False]\n",
    "nonFranchiseTomData[_TOMATOMETER].corr(nonFranchiseTomData[_REL_DAY_REVENUE] / nonFranchiseTomData[_PROD_BUDGET])"
   ]
  },
  {
   "cell_type": "code",
   "execution_count": 12,
   "metadata": {},
   "outputs": [
    {
     "data": {
      "text/plain": [
       "0.012525534370238315"
      ]
     },
     "execution_count": 12,
     "metadata": {},
     "output_type": "execute_result"
    }
   ],
   "source": [
    "nonFranchiseMcData = metacriticData[metacriticData[_IS_FRANCHISE] == False]\n",
    "nonFranchiseMcData[_TOMATOMETER].corr(nonFranchiseMcData[_REL_DAY_REVENUE] / nonFranchiseMcData[_PROD_BUDGET])"
   ]
  },
  {
   "cell_type": "code",
   "execution_count": 13,
   "metadata": {},
   "outputs": [
    {
     "data": {
      "text/html": [
       "<div>\n",
       "<style scoped>\n",
       "    .dataframe tbody tr th:only-of-type {\n",
       "        vertical-align: middle;\n",
       "    }\n",
       "\n",
       "    .dataframe tbody tr th {\n",
       "        vertical-align: top;\n",
       "    }\n",
       "\n",
       "    .dataframe thead th {\n",
       "        text-align: right;\n",
       "    }\n",
       "</style>\n",
       "<table border=\"1\" class=\"dataframe\">\n",
       "  <thead>\n",
       "    <tr style=\"text-align: right;\">\n",
       "      <th></th>\n",
       "      <th>Is part of a franchise?</th>\n",
       "      <th>Production budget (in USD)</th>\n",
       "      <th>Month</th>\n",
       "      <th>Year</th>\n",
       "      <th>Release day revenue</th>\n",
       "      <th>Number of theaters on release day</th>\n",
       "      <th>Tomatometer</th>\n",
       "      <th>Metacritic</th>\n",
       "      <th>Release day revenue / production budget</th>\n",
       "      <th>Rotten Tomatoes Audience</th>\n",
       "    </tr>\n",
       "  </thead>\n",
       "  <tbody>\n",
       "    <tr>\n",
       "      <th>Is part of a franchise?</th>\n",
       "      <td>1.000000</td>\n",
       "      <td>0.345975</td>\n",
       "      <td>0.018009</td>\n",
       "      <td>0.303242</td>\n",
       "      <td>0.425427</td>\n",
       "      <td>0.414592</td>\n",
       "      <td>0.025874</td>\n",
       "      <td>-0.001669</td>\n",
       "      <td>0.049434</td>\n",
       "      <td>0.037565</td>\n",
       "    </tr>\n",
       "    <tr>\n",
       "      <th>Production budget (in USD)</th>\n",
       "      <td>0.345975</td>\n",
       "      <td>1.000000</td>\n",
       "      <td>0.070735</td>\n",
       "      <td>0.106353</td>\n",
       "      <td>0.668855</td>\n",
       "      <td>0.620867</td>\n",
       "      <td>-0.003806</td>\n",
       "      <td>0.003441</td>\n",
       "      <td>-0.047737</td>\n",
       "      <td>0.023668</td>\n",
       "    </tr>\n",
       "    <tr>\n",
       "      <th>Month</th>\n",
       "      <td>0.018009</td>\n",
       "      <td>0.070735</td>\n",
       "      <td>1.000000</td>\n",
       "      <td>-0.014396</td>\n",
       "      <td>-0.028896</td>\n",
       "      <td>-0.051811</td>\n",
       "      <td>0.105465</td>\n",
       "      <td>0.130907</td>\n",
       "      <td>-0.009149</td>\n",
       "      <td>0.100243</td>\n",
       "    </tr>\n",
       "    <tr>\n",
       "      <th>Year</th>\n",
       "      <td>0.303242</td>\n",
       "      <td>0.106353</td>\n",
       "      <td>-0.014396</td>\n",
       "      <td>1.000000</td>\n",
       "      <td>0.134790</td>\n",
       "      <td>0.132402</td>\n",
       "      <td>0.104102</td>\n",
       "      <td>0.084627</td>\n",
       "      <td>0.014671</td>\n",
       "      <td>-0.021846</td>\n",
       "    </tr>\n",
       "    <tr>\n",
       "      <th>Release day revenue</th>\n",
       "      <td>0.425427</td>\n",
       "      <td>0.668855</td>\n",
       "      <td>-0.028896</td>\n",
       "      <td>0.134790</td>\n",
       "      <td>1.000000</td>\n",
       "      <td>0.594870</td>\n",
       "      <td>0.056188</td>\n",
       "      <td>0.041576</td>\n",
       "      <td>0.039217</td>\n",
       "      <td>0.097921</td>\n",
       "    </tr>\n",
       "    <tr>\n",
       "      <th>Number of theaters on release day</th>\n",
       "      <td>0.414592</td>\n",
       "      <td>0.620867</td>\n",
       "      <td>-0.051811</td>\n",
       "      <td>0.132402</td>\n",
       "      <td>0.594870</td>\n",
       "      <td>1.000000</td>\n",
       "      <td>-0.244439</td>\n",
       "      <td>-0.269951</td>\n",
       "      <td>0.024557</td>\n",
       "      <td>-0.168412</td>\n",
       "    </tr>\n",
       "    <tr>\n",
       "      <th>Tomatometer</th>\n",
       "      <td>0.025874</td>\n",
       "      <td>-0.003806</td>\n",
       "      <td>0.105465</td>\n",
       "      <td>0.104102</td>\n",
       "      <td>0.056188</td>\n",
       "      <td>-0.244439</td>\n",
       "      <td>1.000000</td>\n",
       "      <td>0.898491</td>\n",
       "      <td>-0.016038</td>\n",
       "      <td>0.634200</td>\n",
       "    </tr>\n",
       "    <tr>\n",
       "      <th>Metacritic</th>\n",
       "      <td>-0.001669</td>\n",
       "      <td>0.003441</td>\n",
       "      <td>0.130907</td>\n",
       "      <td>0.084627</td>\n",
       "      <td>0.041576</td>\n",
       "      <td>-0.269951</td>\n",
       "      <td>0.898491</td>\n",
       "      <td>1.000000</td>\n",
       "      <td>-0.034479</td>\n",
       "      <td>0.590180</td>\n",
       "    </tr>\n",
       "    <tr>\n",
       "      <th>Release day revenue / production budget</th>\n",
       "      <td>0.049434</td>\n",
       "      <td>-0.047737</td>\n",
       "      <td>-0.009149</td>\n",
       "      <td>0.014671</td>\n",
       "      <td>0.039217</td>\n",
       "      <td>0.024557</td>\n",
       "      <td>-0.016038</td>\n",
       "      <td>-0.034479</td>\n",
       "      <td>1.000000</td>\n",
       "      <td>-0.032785</td>\n",
       "    </tr>\n",
       "    <tr>\n",
       "      <th>Rotten Tomatoes Audience</th>\n",
       "      <td>0.037565</td>\n",
       "      <td>0.023668</td>\n",
       "      <td>0.100243</td>\n",
       "      <td>-0.021846</td>\n",
       "      <td>0.097921</td>\n",
       "      <td>-0.168412</td>\n",
       "      <td>0.634200</td>\n",
       "      <td>0.590180</td>\n",
       "      <td>-0.032785</td>\n",
       "      <td>1.000000</td>\n",
       "    </tr>\n",
       "  </tbody>\n",
       "</table>\n",
       "</div>"
      ],
      "text/plain": [
       "                                         Is part of a franchise?  \\\n",
       "Is part of a franchise?                                 1.000000   \n",
       "Production budget (in USD)                              0.345975   \n",
       "Month                                                   0.018009   \n",
       "Year                                                    0.303242   \n",
       "Release day revenue                                     0.425427   \n",
       "Number of theaters on release day                       0.414592   \n",
       "Tomatometer                                             0.025874   \n",
       "Metacritic                                             -0.001669   \n",
       "Release day revenue / production budget                 0.049434   \n",
       "Rotten Tomatoes Audience                                0.037565   \n",
       "\n",
       "                                         Production budget (in USD)     Month  \\\n",
       "Is part of a franchise?                                    0.345975  0.018009   \n",
       "Production budget (in USD)                                 1.000000  0.070735   \n",
       "Month                                                      0.070735  1.000000   \n",
       "Year                                                       0.106353 -0.014396   \n",
       "Release day revenue                                        0.668855 -0.028896   \n",
       "Number of theaters on release day                          0.620867 -0.051811   \n",
       "Tomatometer                                               -0.003806  0.105465   \n",
       "Metacritic                                                 0.003441  0.130907   \n",
       "Release day revenue / production budget                   -0.047737 -0.009149   \n",
       "Rotten Tomatoes Audience                                   0.023668  0.100243   \n",
       "\n",
       "                                             Year  Release day revenue  \\\n",
       "Is part of a franchise?                  0.303242             0.425427   \n",
       "Production budget (in USD)               0.106353             0.668855   \n",
       "Month                                   -0.014396            -0.028896   \n",
       "Year                                     1.000000             0.134790   \n",
       "Release day revenue                      0.134790             1.000000   \n",
       "Number of theaters on release day        0.132402             0.594870   \n",
       "Tomatometer                              0.104102             0.056188   \n",
       "Metacritic                               0.084627             0.041576   \n",
       "Release day revenue / production budget  0.014671             0.039217   \n",
       "Rotten Tomatoes Audience                -0.021846             0.097921   \n",
       "\n",
       "                                         Number of theaters on release day  \\\n",
       "Is part of a franchise?                                           0.414592   \n",
       "Production budget (in USD)                                        0.620867   \n",
       "Month                                                            -0.051811   \n",
       "Year                                                              0.132402   \n",
       "Release day revenue                                               0.594870   \n",
       "Number of theaters on release day                                 1.000000   \n",
       "Tomatometer                                                      -0.244439   \n",
       "Metacritic                                                       -0.269951   \n",
       "Release day revenue / production budget                           0.024557   \n",
       "Rotten Tomatoes Audience                                         -0.168412   \n",
       "\n",
       "                                         Tomatometer  Metacritic  \\\n",
       "Is part of a franchise?                     0.025874   -0.001669   \n",
       "Production budget (in USD)                 -0.003806    0.003441   \n",
       "Month                                       0.105465    0.130907   \n",
       "Year                                        0.104102    0.084627   \n",
       "Release day revenue                         0.056188    0.041576   \n",
       "Number of theaters on release day          -0.244439   -0.269951   \n",
       "Tomatometer                                 1.000000    0.898491   \n",
       "Metacritic                                  0.898491    1.000000   \n",
       "Release day revenue / production budget    -0.016038   -0.034479   \n",
       "Rotten Tomatoes Audience                    0.634200    0.590180   \n",
       "\n",
       "                                         Release day revenue / production budget  \\\n",
       "Is part of a franchise?                                                 0.049434   \n",
       "Production budget (in USD)                                             -0.047737   \n",
       "Month                                                                  -0.009149   \n",
       "Year                                                                    0.014671   \n",
       "Release day revenue                                                     0.039217   \n",
       "Number of theaters on release day                                       0.024557   \n",
       "Tomatometer                                                            -0.016038   \n",
       "Metacritic                                                             -0.034479   \n",
       "Release day revenue / production budget                                 1.000000   \n",
       "Rotten Tomatoes Audience                                               -0.032785   \n",
       "\n",
       "                                         Rotten Tomatoes Audience  \n",
       "Is part of a franchise?                                  0.037565  \n",
       "Production budget (in USD)                               0.023668  \n",
       "Month                                                    0.100243  \n",
       "Year                                                    -0.021846  \n",
       "Release day revenue                                      0.097921  \n",
       "Number of theaters on release day                       -0.168412  \n",
       "Tomatometer                                              0.634200  \n",
       "Metacritic                                               0.590180  \n",
       "Release day revenue / production budget                 -0.032785  \n",
       "Rotten Tomatoes Audience                                 1.000000  "
      ]
     },
     "execution_count": 13,
     "metadata": {},
     "output_type": "execute_result"
    }
   ],
   "source": [
    "tomatometerData[tomatometerData[_METACRITIC] > -1].corr()"
   ]
  },
  {
   "cell_type": "code",
   "execution_count": 14,
   "metadata": {},
   "outputs": [],
   "source": [
    "def get_keys_and_corr_list(df, key_col, col_1, col_2):\n",
    "    keys_list = sorted(df[key_col].unique())\n",
    "    corr_list = []\n",
    "    for key in keys_list:\n",
    "        val = None\n",
    "        try:\n",
    "            val = df[df[key_col] == key][col_1].corr(df[col_2])\n",
    "        except:\n",
    "            pass\n",
    "        corr_list.append(val)\n",
    "    return keys_list, corr_list"
   ]
  },
  {
   "cell_type": "code",
   "execution_count": 15,
   "metadata": {},
   "outputs": [
    {
     "data": {
      "image/png": "[encoded data removed]",
      "text/plain": [
       "<Figure size 432x288 with 1 Axes>"
      ]
     },
     "metadata": {},
     "output_type": "display_data"
    }
   ],
   "source": [
    "rel_day_rev_ratio_by_month = []\n",
    "for i in range(1, 13):\n",
    "    rel_day_rev_ratio_by_month.append(metacriticData[metacriticData[_MONTH] == i][_REL_DAY_REVENUE_RATIO].mean())\n",
    "    \n",
    "plt.plot(_MONTHS_LIST, rel_day_rev_ratio_by_month)\n",
    "plt.axis([0, 11, 0, 1])\n",
    "plt.savefig('rel_day_rev_rat_by_month.png')"
   ]
  },
  {
   "cell_type": "code",
   "execution_count": 16,
   "metadata": {},
   "outputs": [
    {
     "data": {
      "image/png": "[encoded data removed]",
      "text/plain": [
       "<Figure size 432x288 with 1 Axes>"
      ]
     },
     "metadata": {},
     "output_type": "display_data"
    }
   ],
   "source": [
    "months_list, tom_rat_by_month = get_keys_and_corr_list(tomatometerData, _MONTH, _TOMATOMETER, _REL_DAY_REVENUE_RATIO)\n",
    "\n",
    "plt.plot(range(12), tom_rat_by_month)\n",
    "plt.axis([0, 11, -1, 1])\n",
    "plt.savefig('tom_rat_by_month.png')"
   ]
  },
  {
   "cell_type": "code",
   "execution_count": 17,
   "metadata": {},
   "outputs": [
    {
     "data": {
      "image/png": "[encoded data removed]",
      "text/plain": [
       "<Figure size 432x288 with 1 Axes>"
      ]
     },
     "metadata": {},
     "output_type": "display_data"
    }
   ],
   "source": [
    "months_list, mc_rat_by_month = get_keys_and_corr_list(metacriticData, _MONTH, _METACRITIC, _REL_DAY_REVENUE_RATIO)\n",
    "\n",
    "plt.plot(range(12), mc_rat_by_month)\n",
    "plt.axis([0, 11, -1, 1])\n",
    "plt.savefig('mc_rat_by_month.png')"
   ]
  },
  {
   "cell_type": "code",
   "execution_count": 18,
   "metadata": {},
   "outputs": [
    {
     "name": "stdout",
     "output_type": "stream",
     "text": [
      "{('Horror', -0.07640955803981994), ('Comedy', -0.018635352879512925), ('Action', 0.1862903498966395), ('Western', 0.2678006838615935), ('Adventure', 0.2056461981516357), ('Drama', -0.12742283451023728), ('-1', -0.009370815507377409), ('Musical', 0.10415340254184127), ('Documentary', -0.06891186700514508), ('Black Comedy', 0.09747260860527714), ('Concert/Performance', -0.41488528715268735), ('Romantic Comedy', -0.031514097584878685), ('Thriller/Suspense', 0.011091621418122798)}\n"
     ]
    },
    {
     "data": {
      "image/png": "[encoded data removed]",
      "text/plain": [
       "<Figure size 432x288 with 1 Axes>"
      ]
     },
     "metadata": {},
     "output_type": "display_data"
    }
   ],
   "source": [
    "genres_list, tom_rat_by_genre = get_keys_and_corr_list(tomatometerData, _GENRE, _TOMATOMETER, _REL_DAY_REVENUE_RATIO)\n",
    "\n",
    "print(set(zip(genres_list, tom_rat_by_genre)))\n",
    "plt.plot(genres_list, tom_rat_by_genre)\n",
    "plt.axis([0, len(genres_list) - 1, -1, 1])\n",
    "plt.gca().axes.get_xaxis().set_visible(False)\n",
    "plt.savefig('tom_rat_by_genre.png')"
   ]
  },
  {
   "cell_type": "code",
   "execution_count": 19,
   "metadata": {},
   "outputs": [
    {
     "name": "stdout",
     "output_type": "stream",
     "text": [
      "{('Romantic Comedy', 0.019954280960502207), ('Action', 0.1838000779494729), ('Western', 0.10719353340298396), ('Drama', -0.1526869159165025), ('-1', 0.09781167004511676), ('Musical', 0.06296118908170668), ('Documentary', -0.1522194033487056), ('Black Comedy', -0.22560282560179676), ('Concert/Performance', -0.1491511338984471), ('Horror', -0.041856609216572783), ('Adventure', 0.04293595127684088), ('Comedy', -0.012364845663748146), ('Thriller/Suspense', -0.02693382905296263)}\n"
     ]
    },
    {
     "data": {
      "image/png": "[encoded data removed]",
      "text/plain": [
       "<Figure size 432x288 with 1 Axes>"
      ]
     },
     "metadata": {},
     "output_type": "display_data"
    }
   ],
   "source": [
    "genres_list, mc_rat_by_genre = get_keys_and_corr_list(metacriticData, _GENRE, _METACRITIC, _REL_DAY_REVENUE_RATIO)\n",
    "\n",
    "print(set(zip(genres_list, mc_rat_by_genre)))\n",
    "plt.plot(genres_list, mc_rat_by_genre)\n",
    "plt.axis([0, len(genres_list) - 1, -1, 1])\n",
    "plt.gca().axes.get_xaxis().set_visible(False)\n",
    "plt.savefig('mc_rat_by_genre.png')"
   ]
  },
  {
   "cell_type": "code",
   "execution_count": 20,
   "metadata": {},
   "outputs": [
    {
     "name": "stdout",
     "output_type": "stream",
     "text": [
      "{('Based on TV', 0.22169335854355277), ('Based on Folk Tale/Legend/Fairytale', -0.024327897109430483), ('Spin-Off', -0.3883027965505886), ('Based on Theme Park Ride', 0.17209123991220715), ('Based on Comic/Graphic Novel', 0.3530924505188444), ('Based on Real Life Events', 0.011779684878344472), ('Based on Ballet', None), ('Remake', -0.020155170140677886), ('Based on Factual Book/Article', -0.17437832891386362), ('Based on Game', 0.6054866890339252), ('Based on Religious Text', -0.1691081135235522), ('Based on Musical Group', None), ('Based on Fiction Book/Short Story', -0.06408600630458726), ('Original Screenplay', -0.05053852300203993), ('-1', -0.005367110758686357), ('Based on Toy', 0.3663552638380891), ('Based on Movie', -0.48054007152126277), ('Based on Short Film', 0.2711699498982838), ('Based on Web Series', None), ('Based on Play', -0.5749142952066779), ('Based on Musical or Opera', -0.15121369486383834), ('Compilation', None)}\n"
     ]
    },
    {
     "data": {
      "image/png": "[encoded data removed]",
      "text/plain": [
       "<Figure size 432x288 with 1 Axes>"
      ]
     },
     "metadata": {},
     "output_type": "display_data"
    }
   ],
   "source": [
    "source_types_list, tom_rat_by_source_type = get_keys_and_corr_list(tomatometerData, _SOURCE_TYPE, _TOMATOMETER, _REL_DAY_REVENUE_RATIO)\n",
    "\n",
    "print(set(zip(source_types_list, tom_rat_by_source_type)))\n",
    "plt.plot(source_types_list, tom_rat_by_source_type)\n",
    "plt.axis([0, len(source_types_list) - 1, -1, 1])\n",
    "plt.gca().axes.get_xaxis().set_visible(False)\n",
    "plt.savefig('tom_rat_by_source_type.png')"
   ]
  },
  {
   "cell_type": "code",
   "execution_count": 21,
   "metadata": {},
   "outputs": [
    {
     "name": "stdout",
     "output_type": "stream",
     "text": [
      "{('Original Screenplay', -0.05219838014361782), ('Spin-Off', -0.3181881636308239), ('Based on Theme Park Ride', 0.35686685756345826), ('Based on Fiction Book/Short Story', -0.06569752158177851), ('Based on TV', 0.07654519454032012), ('-1', 0.0975506459164857), ('Based on Religious Text', -0.0924569014210367), ('Based on Folk Tale/Legend/Fairytale', 0.14541022117086805), ('Based on Musical or Opera', -0.08540853583324357), ('Based on Factual Book/Article', -0.2427655930047049), ('Remake', -0.048918482332411424), ('Based on Game', 0.19346915918767593), ('Based on Musical Group', None), ('Based on Comic/Graphic Novel', 0.22487680058629242), ('Based on Toy', 0.5108507227720995), ('Based on Movie', -0.36665123327336174), ('Based on Short Film', 0.16099518015867526), ('Based on Song', None), ('Based on Real Life Events', -0.048000038407126855), ('Based on Web Series', None), ('Based on Play', -0.3365156463422727), ('Compilation', None)}\n"
     ]
    },
    {
     "data": {
      "image/png": "[encoded data removed]",
      "text/plain": [
       "<Figure size 432x288 with 1 Axes>"
      ]
     },
     "metadata": {},
     "output_type": "display_data"
    }
   ],
   "source": [
    "source_types_list, mc_rat_by_source_type = get_keys_and_corr_list(metacriticData, _SOURCE_TYPE, _METACRITIC, _REL_DAY_REVENUE_RATIO)\n",
    "\n",
    "print(set(zip(source_types_list, mc_rat_by_source_type)))\n",
    "plt.plot(source_types_list, mc_rat_by_source_type)\n",
    "plt.axis([0, len(source_types_list) - 1, -1, 1])\n",
    "plt.gca().axes.get_xaxis().set_visible(False)\n",
    "plt.savefig('mc_rat_by_source_type.png')"
   ]
  },
  {
   "cell_type": "code",
   "execution_count": 22,
   "metadata": {},
   "outputs": [
    {
     "name": "stdout",
     "output_type": "stream",
     "text": [
      "{('Live Action', -0.016425626872995463), ('Animation/Live Action', 0.48488715239690017), ('-1', -0.009370815507377409), ('Multiple Production Methods', None), ('Hand Animation', -0.6468089677429744), ('Digital Animation', 0.15003617136788752), ('Rotoscoping', None), ('Stop-Motion Animation', -0.31457515690798343)}\n"
     ]
    },
    {
     "data": {
      "image/png": "[encoded data removed]",
      "text/plain": [
       "<Figure size 432x288 with 1 Axes>"
      ]
     },
     "metadata": {},
     "output_type": "display_data"
    }
   ],
   "source": [
    "prod_methods_list, tom_rat_by_prod_method = get_keys_and_corr_list(tomatometerData, _PROD_METHOD, _TOMATOMETER, _REL_DAY_REVENUE_RATIO)\n",
    "\n",
    "print(set(zip(prod_methods_list, tom_rat_by_prod_method)))\n",
    "plt.plot(prod_methods_list, tom_rat_by_prod_method)\n",
    "plt.axis([0, len(prod_methods_list) - 1, -1, 1])\n",
    "plt.gca().axes.get_xaxis().set_visible(False)\n",
    "plt.savefig('tom_rat_by_prod_method.png')"
   ]
  },
  {
   "cell_type": "code",
   "execution_count": 23,
   "metadata": {},
   "outputs": [
    {
     "name": "stdout",
     "output_type": "stream",
     "text": [
      "{('Animation/Live Action', 0.29952849578370716), ('-1', 0.09781167004511676), ('Multiple Production Methods', None), ('Hand Animation', -0.45464271939619333), ('Live Action', -0.033226671424282615), ('Digital Animation', 0.07228287234722501), ('Rotoscoping', None), ('Stop-Motion Animation', -0.13070388238629285)}\n"
     ]
    },
    {
     "data": {
      "image/png": "[encoded data removed]",
      "text/plain": [
       "<Figure size 432x288 with 1 Axes>"
      ]
     },
     "metadata": {},
     "output_type": "display_data"
    }
   ],
   "source": [
    "prod_methods_list, mc_rat_by_prod_method = get_keys_and_corr_list(metacriticData, _PROD_METHOD, _METACRITIC, _REL_DAY_REVENUE_RATIO)\n",
    "\n",
    "print(set(zip(prod_methods_list, mc_rat_by_prod_method)))\n",
    "plt.plot(prod_methods_list, mc_rat_by_prod_method)\n",
    "plt.axis([0, len(prod_methods_list) - 1, -1, 1])\n",
    "plt.gca().axes.get_xaxis().set_visible(False)\n",
    "plt.savefig('mc_rat_by_prod_method.png')"
   ]
  },
  {
   "cell_type": "code",
   "execution_count": 24,
   "metadata": {},
   "outputs": [
    {
     "name": "stdout",
     "output_type": "stream",
     "text": [
      "{(2002, 0.006084477138260487), (2016, -0.12167014961236491), (2010, 0.011061822382628378), (2014, -0.21604496447569657), (2019, -0.08646858901561158), (2001, -0.07061990768559474), (2013, -0.07516218728631972), (2004, 0.0944949660805896), (2011, -0.05500677710627994), (2018, -0.08381219361671256), (2009, -0.20967895801238973), (2000, -0.06251392815615314), (2007, -0.06993382557971112), (2005, 0.043456036567241584), (2012, -0.18370524895177096), (2003, 0.09198577396390564), (2017, 0.14130225998734264), (2008, -0.07719643322621801), (2015, -0.12453349998329724), (2006, -0.17177949770829876)}\n"
     ]
    },
    {
     "data": {
      "image/png": "[encoded data removed]",
      "text/plain": [
       "<Figure size 432x288 with 1 Axes>"
      ]
     },
     "metadata": {},
     "output_type": "display_data"
    }
   ],
   "source": [
    "years_list, tom_rat_by_year = get_keys_and_corr_list(tomatometerData, _YEAR, _TOMATOMETER, _REL_DAY_REVENUE_RATIO)\n",
    "\n",
    "print(set(zip(years_list, tom_rat_by_year)))\n",
    "plt.plot(years_list, tom_rat_by_year)\n",
    "plt.axis([2000, 2000 + len(years_list) - 1, -1, 1])\n",
    "plt.savefig('tom_rat_by_year.png')"
   ]
  },
  {
   "cell_type": "code",
   "execution_count": 25,
   "metadata": {},
   "outputs": [
    {
     "name": "stdout",
     "output_type": "stream",
     "text": [
      "{(2011, -0.08170374815267502), (2016, -0.10502490494847203), (2014, -0.2460640558583859), (2003, 0.043215948679174505), (2002, 0.00246086503023862), (2001, -0.10332087127373385), (2019, -0.05495694397226969), (2013, -0.12434917207821285), (2018, -0.13273957179094278), (2009, -0.2169708111855187), (2000, 0.00839937323287554), (2007, -0.0947297501645615), (2005, -0.020010006660897188), (2012, -0.18841568027894176), (2010, -0.02205504069233554), (2017, 0.12129559370756365), (2008, -0.10138633603169331), (2015, -0.10714726841878922), (2006, -0.13286944601223274), (2004, 0.05927639021169608)}\n"
     ]
    },
    {
     "data": {
      "image/png": "[encoded data removed]",
      "text/plain": [
       "<Figure size 432x288 with 1 Axes>"
      ]
     },
     "metadata": {},
     "output_type": "display_data"
    }
   ],
   "source": [
    "years_list, mc_rat_by_year = get_keys_and_corr_list(metacriticData, _YEAR, _METACRITIC, _REL_DAY_REVENUE_RATIO)\n",
    "\n",
    "print(set(zip(years_list, mc_rat_by_year)))\n",
    "plt.plot(years_list, mc_rat_by_year)\n",
    "plt.axis([2000, 2000 + len(years_list) - 1, -1, 1])\n",
    "plt.savefig('mc_rat_by_year.png')"
   ]
  },
  {
   "cell_type": "code",
   "execution_count": 26,
   "metadata": {},
   "outputs": [
    {
     "data": {
      "text/plain": [
       "-0.03743833692118227"
      ]
     },
     "execution_count": 26,
     "metadata": {},
     "output_type": "execute_result"
    }
   ],
   "source": [
    "cheapBudgetTomData = tomatometerData[tomatometerData[_PROD_BUDGET] < tomatometerData[_PROD_BUDGET].median()]\n",
    "cheapBudgetTomData[_TOMATOMETER].corr(cheapBudgetTomData[_REL_DAY_REVENUE_RATIO])"
   ]
  },
  {
   "cell_type": "code",
   "execution_count": 27,
   "metadata": {},
   "outputs": [
    {
     "data": {
      "text/plain": [
       "-0.05502957651001656"
      ]
     },
     "execution_count": 27,
     "metadata": {},
     "output_type": "execute_result"
    }
   ],
   "source": [
    "cheapBudgetMcData = metacriticData[metacriticData[_PROD_BUDGET] < metacriticData[_PROD_BUDGET].median()]\n",
    "cheapBudgetMcData[_METACRITIC].corr(cheapBudgetMcData[_REL_DAY_REVENUE_RATIO])"
   ]
  },
  {
   "cell_type": "code",
   "execution_count": 28,
   "metadata": {},
   "outputs": [
    {
     "data": {
      "text/plain": [
       "-0.0012009776547684489"
      ]
     },
     "execution_count": 28,
     "metadata": {},
     "output_type": "execute_result"
    }
   ],
   "source": [
    "smallReleaseTomData = tomatometerData[tomatometerData[_REL_DAY_NUM_THEATERS] < tomatometerData[_REL_DAY_NUM_THEATERS].median()]\n",
    "smallReleaseTomData[_TOMATOMETER].corr(smallReleaseTomData[_REL_DAY_REVENUE_RATIO])"
   ]
  },
  {
   "cell_type": "code",
   "execution_count": 29,
   "metadata": {},
   "outputs": [
    {
     "data": {
      "text/plain": [
       "-0.025008288237869346"
      ]
     },
     "execution_count": 29,
     "metadata": {},
     "output_type": "execute_result"
    }
   ],
   "source": [
    "smallReleaseMcData = metacriticData[metacriticData[_REL_DAY_NUM_THEATERS] < metacriticData[_REL_DAY_NUM_THEATERS].median()]\n",
    "smallReleaseMcData[_METACRITIC].corr(smallReleaseMcData[_REL_DAY_REVENUE_RATIO])"
   ]
  }
 ],
 "metadata": {
  "kernelspec": {
   "display_name": "Python 3",
   "language": "python",
   "name": "python3"
  },
  "language_info": {
   "codemirror_mode": {
    "name": "ipython",
    "version": 3
   },
   "file_extension": ".py",
   "mimetype": "text/x-python",
   "name": "python",
   "nbconvert_exporter": "python",
   "pygments_lexer": "ipython3",
   "version": "3.6.5"
  }
 },
 "nbformat": 4,
 "nbformat_minor": 2
}
